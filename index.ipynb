{
 "cells": [
  {
   "cell_type": "code",
   "execution_count": null,
   "metadata": {},
   "outputs": [],
   "source": [
    "#| include: false\n",
    "from lib2nbdev.convert import *"
   ]
  },
  {
   "cell_type": "markdown",
   "metadata": {},
   "source": [
    "# lib2nbdev\n",
    "\n",
    "> An all-inclusive package for converting your existing libraries and projects into `nbdev` ones. Developed by Novetta."
   ]
  },
  {
   "cell_type": "markdown",
   "metadata": {},
   "source": [
    "[nbdev](nbdev.fast.ai) is a fantastic workflow aimed at centralizing documentation, testing, and source code generation all out of one place: Jupyter Notebooks. However, what if you already have an existing project? As it stands the only way to convert your library over is through manual tasks (which can take > 30 hrs!). \n",
    "\n",
    "`lib2nbdev` is the solution!\n",
    "\n",
    "Instead, we can perform a one-time conversion on any existing library. During the conversion process the library will help you generate a proper `settings.ini` configuration file for your project. However you can also generate your own `settings.ini` and put it in your project's core directory, such as:\n",
    "\n",
    "- `lib2nbdev`\n",
    "  - **`settings.ini`**\n",
    "  - `lib2nbdev`\n",
    "    - `convert.py`\n",
    "    \n",
    "For generating a valid `settings.ini`, see an example [here](https://github.com/fastai/nbdev_template/blob/master/settings.ini) and the related nbdev [documentation](https://nbdev.fast.ai/tutorial.html#Edit-settings.ini)"
   ]
  },
  {
   "cell_type": "markdown",
   "metadata": {},
   "source": [
    "## Install"
   ]
  },
  {
   "cell_type": "markdown",
   "metadata": {},
   "source": [
    "`pip install lib2nbdev`"
   ]
  },
  {
   "cell_type": "markdown",
   "metadata": {},
   "source": [
    "## How to use"
   ]
  },
  {
   "cell_type": "markdown",
   "metadata": {},
   "source": [
    "From your project directory (in bash), simply run:\n",
    "\n",
    "```bash\n",
    "convert_lib\n",
    "```\n",
    "\n",
    "And it will automatically generate the notebooks needed, as well as privatizing any functions that may need it (anything preceding with a `_` in the name) where they shouldn't show in the generated documentation. \n",
    "\n",
    "Afterwards you have a fully-functional `nbdev` library, and can make use of all its goodies!\n",
    "\n",
    "### Note for Windows Users:\n",
    "\n",
    "If you wish to use this library you should either:\n",
    "\n",
    "1. Use [Windows Subsystem for Linux](https://docs.microsoft.com/en-us/windows/wsl/install-win10) (WSL2)\n",
    "2. Use the Python3 interpreter in Windows:\n",
    "    - `python3`\n",
    "    - `from lib2nbdev.convert import convert_lib; convert_lib()`"
   ]
  },
  {
   "cell_type": "markdown",
   "metadata": {},
   "source": [
    "## Important Notice:\n",
    "\n",
    "**This is a one-time conversion, this does not allow for repeated python -> notebook conversions.**"
   ]
  },
  {
   "cell_type": "code",
   "execution_count": null,
   "metadata": {},
   "outputs": [],
   "source": []
  }
 ],
 "metadata": {
  "kernelspec": {
   "display_name": "Python 3 (ipykernel)",
   "language": "python",
   "name": "python3"
  }
 },
 "nbformat": 4,
 "nbformat_minor": 2
}
