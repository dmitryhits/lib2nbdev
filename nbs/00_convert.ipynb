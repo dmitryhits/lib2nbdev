{
 "cells": [
  {
   "cell_type": "code",
   "execution_count": null,
   "metadata": {},
   "outputs": [],
   "source": [
    "#| default_exp convert"
   ]
  },
  {
   "cell_type": "markdown",
   "metadata": {},
   "source": [
    "# The Converter\n",
    "\n",
    "> The internals for the lib2nbdev2 functionality"
   ]
  },
  {
   "cell_type": "code",
   "execution_count": null,
   "metadata": {},
   "outputs": [],
   "source": [
    "#| hide\n",
    "from nbdev.showdoc import *\n",
    "from fastcore.test import *"
   ]
  },
  {
   "cell_type": "code",
   "execution_count": null,
   "metadata": {},
   "outputs": [],
   "source": [
    "#| export\n",
    "import json\n",
    "import os\n",
    "\n",
    "from fastcore.basics import Path\n",
    "from fastcore.xtras import is_listy\n",
    "from fastcore.foundation import Config\n",
    "from fastcore.script import call_parse\n",
    "\n",
    "from fastprogress.fastprogress import progress_bar\n",
    "\n",
    "# from nbdev.export import nbglob, export_names, _re_class_func_def, _re_obj_def\n",
    "# from nbdev.sync import _split\n",
    "from nbdev.config import *\n",
    "from lib2nbdev2.generators import generate_ci, generate_doc_foundations, generate_setup\n",
    "from fastcore.all import *"
   ]
  },
  {
   "cell_type": "code",
   "execution_count": null,
   "metadata": {},
   "outputs": [
    {
     "name": "stdout",
     "output_type": "stream",
     "text": [
      "/Users/hits/software/lib2nbdev/nbs\n"
     ]
    }
   ],
   "source": [
    "modules_dir = Path.cwd()\n",
    "print(modules_dir)"
   ]
  },
  {
   "cell_type": "markdown",
   "metadata": {},
   "source": [
    "## Functions borrowed from old nbdev"
   ]
  },
  {
   "cell_type": "code",
   "execution_count": null,
   "metadata": {},
   "outputs": [],
   "source": [
    "#| export\n",
    "_re_class_func_def = re.compile(r\"\"\"\n",
    "# Catches any 0-indented function or class definition with its name in group 1\n",
    "^              # Beginning of a line (since re.MULTILINE is passed)\n",
    "(?:async\\sdef|def|class)  # Non-catching group for def or class\n",
    "\\s+            # One whitespace or more\n",
    "([^\\(\\s]+)     # Catching group with any character except an opening parenthesis or a whitespace (name)\n",
    "\\s*            # Any number of whitespace\n",
    "(?:\\(|:)       # Non-catching group with either an opening parenthesis or a : (classes don't need ())\n",
    "\"\"\", re.MULTILINE | re.VERBOSE)"
   ]
  },
  {
   "cell_type": "code",
   "execution_count": null,
   "metadata": {},
   "outputs": [],
   "source": [
    "#| export\n",
    "_re_obj_def = re.compile(r\"\"\"\n",
    "# Catches any 0-indented object definition (bla = thing) with its name in group 1\n",
    "^                          # Beginning of a line (since re.MULTILINE is passed)\n",
    "([_a-zA-Z]+[a-zA-Z0-9_\\.]*)  # Catch a group which is a valid python variable name\n",
    "\\s*                        # Any number of whitespace\n",
    "(?::\\s*\\S.*|)=  # Non-catching group of either a colon followed by a type annotation, or nothing; followed by an =\n",
    "\"\"\", re.MULTILINE | re.VERBOSE)"
   ]
  },
  {
   "cell_type": "code",
   "execution_count": null,
   "metadata": {},
   "outputs": [],
   "source": [
    "#| export\n",
    "_re_class_func_def = re.compile(r\"\"\"\n",
    "# Catches any 0-indented function or class definition with its name in group 1\n",
    "^              # Beginning of a line (since re.MULTILINE is passed)\n",
    "(?:async\\sdef|def|class)  # Non-catching group for def or class\n",
    "\\s+            # One whitespace or more\n",
    "([^\\(\\s]+)     # Catching group with any character except an opening parenthesis or a whitespace (name)\n",
    "\\s*            # Any number of whitespace\n",
    "(?:\\(|:)       # Non-catching group with either an opening parenthesis or a : (classes don't need ())\n",
    "\"\"\", re.MULTILINE | re.VERBOSE)"
   ]
  },
  {
   "cell_type": "code",
   "execution_count": null,
   "metadata": {},
   "outputs": [],
   "source": [
    "#| export\n",
    "_re_cell = re.compile(r'^# Cell|^# Internal Cell|^# Comes from\\s+(\\S+), cell')"
   ]
  },
  {
   "cell_type": "code",
   "execution_count": null,
   "metadata": {},
   "outputs": [],
   "source": [
    "#| export\n",
    "def _split(code):\n",
    "    lines = code.split('\\n')\n",
    "    nbs_path = get_config().path(\"nbs_path\").relative_to(get_config().config_file.parent)\n",
    "    prefix = '' if nbs_path == Path('.') else f'{nbs_path}/'\n",
    "    default_nb = re.search(f'File to edit: {prefix}(\\S+)\\s+', lines[0]).groups()[0]\n",
    "    s,res = 1,[]\n",
    "    while _re_cell.search(lines[s]) is None: s += 1\n",
    "    e = s+1\n",
    "    while e < len(lines):\n",
    "        while e < len(lines) and _re_cell.search(lines[e]) is None: e += 1\n",
    "        grps = _re_cell.search(lines[s]).groups()\n",
    "        nb = grps[0] or default_nb\n",
    "        content = lines[s+1:e]\n",
    "        while len(content) > 1 and content[-1] == '': content = content[:-1]\n",
    "        res.append((nb, '\\n'.join(content)))\n",
    "        s,e = e,e+1\n",
    "    return res\n",
    "     "
   ]
  },
  {
   "cell_type": "markdown",
   "metadata": {},
   "source": [
    "## Foundational Helper Functions"
   ]
  },
  {
   "cell_type": "code",
   "execution_count": null,
   "metadata": {},
   "outputs": [],
   "source": [
    "#| export\n",
    "def export_names(code, func_only=False):\n",
    "    \"Find the names of the objects, functions or classes defined in `code` that are exported.\"\n",
    "    #Format monkey-patches with @patch\n",
    "    def _f(gps):\n",
    "        nm, cls, t = gps.groups()\n",
    "        if cls is not None: return f\"def {cls}.{nm}():\"\n",
    "        return '\\n'.join([f\"def {c}.{nm}():\" for c in re.split(', *', t[1:-1])])"
   ]
  },
  {
   "cell_type": "code",
   "execution_count": null,
   "metadata": {},
   "outputs": [],
   "source": [
    "#| export\n",
    "def code_cell(code:str=None) -> str:\n",
    "    \"\"\"\n",
    "    Returns a Jupyter cell with potential `code`\n",
    "    \"\"\"\n",
    "    cell = {\n",
    "   \"cell_type\": \"code\",\n",
    "   \"execution_count\": None,\n",
    "   \"metadata\": {},\n",
    "   \"outputs\": [],\n",
    "    \"source\": []\n",
    "    }\n",
    "    if is_listy(code): \n",
    "        for i, c in enumerate(code):\n",
    "            if i < len(code)-1:\n",
    "                cell[\"source\"].append(c+'\\n')\n",
    "            else:\n",
    "                cell[\"source\"].append(c)\n",
    "    elif code: cell[\"source\"].append(code)\n",
    "    return cell"
   ]
  },
  {
   "cell_type": "code",
   "execution_count": null,
   "metadata": {},
   "outputs": [],
   "source": [
    "#| export\n",
    "def nbglob(fname=None, recursive=None, extension='.ipynb', config_key='nbs_path') -> L:\n",
    "    \"Find all files in a directory matching an extension given a `config_key`.\"\n",
    "    print('Running NBGlob')\n",
    "    fname = Path(fname or get_config().path(config_key))\n",
    "    print('fname', fname)\n",
    "    if fname.is_file(): return [fname]\n",
    "    if recursive == None: recursive=get_config().get('recursive', 'False').lower() == 'true'\n",
    "    if fname.is_dir(): pat = f'**/*{extension}' if recursive else f'*{extension}'\n",
    "    else: fname,_,pat = str(fname).rpartition(os.path.sep)\n",
    "    if str(fname).endswith('**'): fname,pat = fname[:-2],'**/'+pat\n",
    "    fls = L(Path(fname).glob(pat)).map(Path)\n",
    "    return fls.filter(lambda x: x.name[0]!='_' and '/.' not in str(x))"
   ]
  },
  {
   "cell_type": "markdown",
   "metadata": {},
   "source": [
    "A very simplistic and foundational function, it simply returns a string representation of a Jupyter cell without any metadata and potentially some code."
   ]
  },
  {
   "cell_type": "code",
   "execution_count": null,
   "metadata": {},
   "outputs": [],
   "source": [
    "#| hide\n",
    "_default_cell = \"{'cell_type': 'code', 'execution_count': None, 'metadata': {}, 'outputs': [], 'source': []}\"\n",
    "test_eq(_default_cell, str(code_cell()))"
   ]
  },
  {
   "cell_type": "code",
   "execution_count": null,
   "metadata": {},
   "outputs": [],
   "source": [
    "#| export\n",
    "def write_module_cell() -> str:\n",
    "    \"\"\"\n",
    "    Writes a template `Markdown` cell for the title and description of a notebook\n",
    "    \"\"\"\n",
    "    return {\n",
    "   \"cell_type\": \"markdown\",\n",
    "   \"metadata\": {},\n",
    "    \"source\": [\n",
    "        \"# Default Title (change me)\\n\", \n",
    "        \"> Default description (change me)\"\n",
    "    ]\n",
    "    }"
   ]
  },
  {
   "cell_type": "code",
   "execution_count": null,
   "metadata": {},
   "outputs": [],
   "source": [
    "#| export\n",
    "def init_nb(module_name:str) -> str:\n",
    "    \"\"\"\n",
    "    Initializes a complete blank notebook based on `module_name`\n",
    "\n",
    "    Also writes the first #| default_exp cell and checks for a nested module (moduleA.moduleB)\n",
    "    \"\"\"\n",
    "    if module_name[0] == '.': module_name = module_name.split('.')[1]\n",
    "    if '.ipynb' in module_name: module_name = module_name.split('.ipynb')[0]\n",
    "        \n",
    "    return {\"cells\":[code_cell(f\"#| default_exp {module_name}\"), write_module_cell()], \n",
    "            \"metadata\":{\n",
    "                \"jupytext\":{\"split_at_heading\":True},\n",
    "                \"kernelspec\":{\"display_name\":\"Python 3\", \"language\": \"python\", \"name\": \"python3\"}\n",
    "            },\n",
    "           \n",
    "           \"nbformat\":4,\n",
    "           \"nbformat_minor\":4}"
   ]
  },
  {
   "cell_type": "code",
   "execution_count": null,
   "metadata": {},
   "outputs": [],
   "source": [
    "#| hide\n",
    "_initial_nb = '''{\n",
    "   \"cells\": [\n",
    "      {\n",
    "         \"cell_type\": \"code\",\n",
    "         \"execution_count\": null,\n",
    "         \"metadata\": {},\n",
    "         \"outputs\": [],\n",
    "         \"source\": [\n",
    "            \"#| default_exp testname\"\n",
    "         ]\n",
    "      },\n",
    "      {\n",
    "         \"cell_type\": \"markdown\",\n",
    "         \"metadata\": {},\n",
    "         \"source\": [\n",
    "            \"# Default Title (change me)\\\\n\",\n",
    "            \"> Default description (change me)\"\n",
    "         ]\n",
    "      }\n",
    "   ],\n",
    "   \"metadata\": {\n",
    "      \"jupytext\": {\n",
    "         \"split_at_heading\": true\n",
    "      },\n",
    "      \"kernelspec\": {\n",
    "         \"display_name\": \"Python 3\",\n",
    "         \"language\": \"python\",\n",
    "         \"name\": \"python3\"\n",
    "      }\n",
    "   },\n",
    "   \"nbformat\": 4,\n",
    "   \"nbformat_minor\": 4\n",
    "}'''\n",
    "test_eq(_initial_nb, json.dumps(init_nb(\"testname\"), indent=3))"
   ]
  },
  {
   "cell_type": "code",
   "execution_count": null,
   "metadata": {},
   "outputs": [],
   "source": [
    "#| export\n",
    "def write_cell(code:str, is_public:bool=False) -> str:\n",
    "    \"\"\"\n",
    "    Takes source `code`, adds an initial `#| export` or `#| exporti` tag, and writes a Jupyter cell\n",
    "    \"\"\"\n",
    "    if is_public is None: export = ''\n",
    "    export = '#| export' if is_public else '#| exporti'\n",
    "    source = [f\"{export}\"] + code.split(\"\\n\")\n",
    "    return code_cell(source)"
   ]
  },
  {
   "cell_type": "markdown",
   "metadata": {},
   "source": [
    "This function will write a cell given some `code` (which is a str). `is_public` is there to determine if `#export` or `#exporti` should be used (a public or private function, class, or object). "
   ]
  },
  {
   "cell_type": "code",
   "execution_count": null,
   "metadata": {},
   "outputs": [],
   "source": [
    "#| export\n",
    "def write_nb(cfg_path:str, cfg_name:str, splits:list, num:int, parent:str=None, private_list:list=[]) -> str:\n",
    "    \"\"\"\n",
    "    Writes a fully converted Jupyter Notebook based on `splits` and saves it in `Config`'s `nbs_path`.\n",
    "\n",
    "    The notebook number is based on `num`\n",
    "\n",
    "    `parent` denotes if the current notebook module is based on a parent module\n",
    "    such as `moduleA.moduleB`\n",
    "    \n",
    "    `private_list` is a by-cell list of `True`/`False` for each block of code of whether it is private or public\n",
    "    \"\"\"\n",
    "    # Get filename\n",
    "    fname = splits[0][0]\n",
    "    if fname[0] == '.': fname = fname[1:]\n",
    "    if parent is not None: fname = f'{parent}.{fname}'\n",
    "    print(splits)\n",
    "    print(private_list)\n",
    "    # Initialize and write notebook\n",
    "    nb = init_nb(fname)\n",
    "    for i, (_, code) in enumerate(splits):\n",
    "        c = write_cell(code, private_list[i])\n",
    "        nb[\"cells\"].append(c)\n",
    "\n",
    "    # Figure out the notebook number\n",
    "    if num < 10:\n",
    "        fname = f'0{num}_{fname}'\n",
    "    else:\n",
    "        fname = f'{num}_{fname}'\n",
    "\n",
    "    # Save notebook in `nbs_path`\n",
    "    with open(f'{Config(cfg_path, cfg_name).path(\"nbs_path\")/fname}', 'w+') as source_nb:\n",
    "        source_nb.write(json.dumps(nb))"
   ]
  },
  {
   "cell_type": "code",
   "execution_count": null,
   "metadata": {},
   "outputs": [],
   "source": [
    "#| exporti\n",
    "def _not_private(n):\n",
    "    \"Checks if a func is private or not, alternative to nbdev's\"\n",
    "    for t in n.split('.'):\n",
    "        if (t.startswith('_') and not t.startswith('__')): return False\n",
    "    return '\\\\' not in t and '^' not in t and t != 'else'"
   ]
  },
  {
   "cell_type": "markdown",
   "metadata": {},
   "source": [
    "## Converting Libraries"
   ]
  },
  {
   "cell_type": "code",
   "execution_count": null,
   "metadata": {},
   "outputs": [],
   "source": [
    "#| export\n",
    "@call_parse\n",
    "def convert_lib():\n",
    "    \"\"\"\n",
    "    Converts existing library to an nbdev one by autogenerating notebooks.\n",
    "    \n",
    "    Optional prerequisites:\n",
    "      - Make a nbdev settings.ini file beforehand\n",
    "      - Optionally you can add `# Cell` and `# Internal Cell` tags in the source files where you \n",
    "        would like specific cells to be\n",
    "    \n",
    "    Run this command in the base of your repo\n",
    "    \n",
    "    **Can only be run once**\n",
    "    \"\"\"\n",
    "    print('Checking for a settings.ini...')\n",
    "    cfg_path, cfg_name = '.', 'settings.ini'\n",
    "    if not Path(cfg_name).exists():\n",
    "        nbdev_create_config()\n",
    "    # generate_settings()\n",
    "    print('Gathering files...')\n",
    "    files = nbglob(extension='.py', config_key='lib_path', recursive=True)\n",
    "    print(f'Gathered files {files}')\n",
    "    if len(files) == 0: \n",
    "        raise ValueError(\"No files were found, please ensure that `lib_path` is configured properly in `settings.ini`\")\n",
    "    print(f'{len(files)} modules found in the library')\n",
    "    num_nbs = len(files)\n",
    "    \n",
    "    nb_path = Config(cfg_path, cfg_name).path('nbs_path')\n",
    "    nb_path.mkdir(exist_ok=True)\n",
    "    print(f'Writing notebooks to {nb_path}...')\n",
    "    if nb_path.name == Config(cfg_path, cfg_name).lib_name:\n",
    "        nb_path = Path('')\n",
    "        slash = ''\n",
    "        \n",
    "    else:\n",
    "        nb_path = Path(nb_path.name)\n",
    "        slash = '/'\n",
    "\n",
    "    for num, file in enumerate(progress_bar(files)):\n",
    "        if (file.parent.name != Config(cfg_path, cfg_name).lib_name) and slash is not None:\n",
    "            parent = file.parent.name\n",
    "        else:\n",
    "            parent = None\n",
    "        fname = file.name.split('.py')[0] + '.ipynb'\n",
    "        if fname[0] == '.': fname = fname[1:]\n",
    "        # Initial string in the .py\n",
    "        init_str = f\"# AUTOGENERATED! DO NOT EDIT! File to edit: {nb_path}{slash}{fname} (unless otherwise specified).\\n\\n# Cell\\n\"\n",
    "\n",
    "        # Override existing code to include nbdev magic and one code cell\n",
    "        with open(file, encoding='utf8') as f: code = f.read()\n",
    "\n",
    "        if \"AUTOGENERATED\" not in code:\n",
    "            code = init_str + code\n",
    "\n",
    "        # Check to ensure we haven't tried exporting once yet\n",
    "        if \"# Cell\" and \"# Internal Cell\" not in code and '__all__' not in code:\n",
    "            split_code = code.split('\\n')\n",
    "            private_list = [True]\n",
    "            _do_pass, _private, _public = False, '# Internal Cell\\n', '# Cell\\n'\n",
    "            for row, line in enumerate(split_code):\n",
    "                if _do_pass: _do_pass = False; continue\n",
    "                # Deal with decorators\n",
    "                if '@' in line:\n",
    "                    code = split_code[row+1]\n",
    "                    if code[:4] == 'def ': code = code[4:]\n",
    "                    if 'patch' in line or 'typedispatch' in line or not line[0].isspace():\n",
    "                        is_private = _not_private(code.split('(')[0])\n",
    "                        private_list.append(is_private)\n",
    "                        split_code[row] = f'{_public}{line}' if is_private else f'{_private}{line}'\n",
    "                    _do_pass = True\n",
    "                # Deal with objects\n",
    "                elif _re_obj_def.match(line) and not _do_pass:\n",
    "                    is_private = _not_private(line.split('(')[0])\n",
    "                    private_list.append(is_private)\n",
    "                    split_code[row] = f'{_public}{line}' if is_private else f'{_private}{line}'\n",
    "                # Deal with classes or functions\n",
    "                elif _re_class_func_def.match(line) and not _do_pass:\n",
    "                    is_private = _not_private(line.split(' ')[1].split('(')[0])\n",
    "                    private_list.append(is_private)\n",
    "                    split_code[row] = f'{_public}{line}' if is_private else f'{_private}{line}'\n",
    "\n",
    "            code = '\\n'.join(split_code)\n",
    "        \n",
    "            # Write to file\n",
    "            with open(file, 'w', encoding='utf8') as f: f.write(code)\n",
    "\n",
    "            # Build notebooks\n",
    "            splits = _split(code)\n",
    "            write_nb(cfg_path, cfg_name, splits, num, parent, private_list)\n",
    "\n",
    "            # Generate the `__all__` in the top of each .py\n",
    "            if '__all__' not in code:\n",
    "                c = code.split(\"(unless otherwise specified).\")\n",
    "                code = c[0] + \"(unless otherwise specified).\\n\" + f'\\n__all__ = {export_names(code)}\\n\\n# Cell' + c[1]\n",
    "                with open(file, 'w', encoding='utf8') as f: f.write(code)\n",
    "        else:\n",
    "            print(f\"{file.name} was already converted.\")\n",
    "    generate_doc_foundations()\n",
    "    print(f\"{Config(cfg_path, cfg_name).lib_name} successfully converted!\")\n",
    "    # _setup = int(input(\"Would you like to setup this project to be pip installable and configure a setup.py? (0/1)\"))\n",
    "    # if _setup: \n",
    "    #     generate_setup()\n",
    "    #     print('Project is configured for pypi, please see `setup.py` for any advanced configurations')\n",
    "    # _workflow = int(input(\"Would you like to setup the automated Github workflow that nbdev provides? (0/1)\"))\n",
    "    # if _workflow: \n",
    "    #     generate_ci()\n",
    "    #     print(\"Github actions generated! Please make sure to include .github/actions/main.yml in your next commit!\")"
   ]
  },
  {
   "cell_type": "markdown",
   "metadata": {},
   "source": [
    "An example of adding in `# Cell` or `# Internal Cell` to the source code can be seen below:\n",
    "\n",
    "```python\n",
    "# Filename is noop.py\n",
    "\n",
    "# Internal Cell\n",
    "def _myPrivateFunc(o): return o\n",
    "\n",
    "# Cell\n",
    "def myPublicFunc(o): return o\n",
    "```"
   ]
  },
  {
   "cell_type": "markdown",
   "metadata": {},
   "source": [
    "## Test"
   ]
  },
  {
   "cell_type": "code",
   "execution_count": null,
   "metadata": {},
   "outputs": [
    {
     "name": "stdout",
     "output_type": "stream",
     "text": [
      "1 /Users/hits/software/lib2nbdev/nbs/../test_convert/test_convert\n",
      "2 /Users/hits/software/lib2nbdev/nbs\n",
      "3 /Users/hits/software/lib2nbdev/test_convert\n",
      "Checking for a settings.ini...\n",
      "Gathering files...\n",
      "Running NBGlob\n",
      "fname /Users/hits/software/lib2nbdev/test_convert/test_convert\n",
      "Gathered files [Path('/Users/hits/software/lib2nbdev/test_convert/test_convert/test.py')]\n",
      "1 modules found in the library\n",
      "Writing notebooks to /Users/hits/software/lib2nbdev/test_convert/nbs...\n"
     ]
    },
    {
     "data": {
      "text/html": [
       "\n",
       "    <div>\n",
       "        <style>\n",
       "            /* Turns off some styling */\n",
       "            progress {\n",
       "                /* gets rid of default border in Firefox and Opera. */\n",
       "                border: none;\n",
       "                /* Needs to be in here for Safari polyfill so background images work as expected. */\n",
       "                background-size: auto;\n",
       "            }\n",
       "            .progress-bar-interrupted, .progress-bar-interrupted::-webkit-progress-bar {\n",
       "                background: #F44336;\n",
       "            }\n",
       "        </style>\n",
       "      <progress value='1' class='' max='1' style='width:300px; height:20px; vertical-align: middle;'></progress>\n",
       "      100.00% [1/1 00:00<00:00]\n",
       "    </div>\n",
       "    "
      ],
      "text/plain": [
       "<IPython.core.display.HTML object>"
      ]
     },
     "metadata": {},
     "output_type": "display_data"
    },
    {
     "name": "stdout",
     "output_type": "stream",
     "text": [
      "[('test.ipynb', ''), ('test.ipynb', 'def testing_code(a,b): return a+b')]\n",
      "[True, True]\n",
      "Initializing documentation foundation...\n",
      "test_convert successfully converted!\n",
      "4 /Users/hits/software/lib2nbdev/nbs\n"
     ]
    }
   ],
   "source": [
    "#| hide\n",
    "os.chdir(modules_dir)\n",
    "p = Path('../test_convert/test_convert')\n",
    "print('1', p.absolute())\n",
    "p.mkdir(exist_ok=True, parents=True)\n",
    "\n",
    "# write test.py file\n",
    "file = p/'test.py'\n",
    "file.touch()\n",
    "file.write_text('def testing_code(a,b): return a+b\\n')\n",
    "\n",
    "# write settings file\n",
    "text = \"\"\"[DEFAULT]\n",
    "repo = test_convert\n",
    "lib_name = test_convert\n",
    "user = dmitryhits\n",
    "description = A test conversion\n",
    "keywords = test\n",
    "author = Dmitry Hits\n",
    "author_email = dmitry.hits@gmail.com\n",
    "copyright = None\n",
    "branch = master\n",
    "version = 0.0.1\n",
    "min_python = 3.7\n",
    "audience = Developers\n",
    "language = English\n",
    "custom_sidebar = False\n",
    "license = apache2\n",
    "status = 2\n",
    "nbs_path = nbs\n",
    "doc_path = _docs\n",
    "recursive = True\n",
    "doc_baseurl = /test_convert/\n",
    "git_url = https://github.com/muellerzr/test_convert/tree/master/\n",
    "lib_path = test_convert\n",
    "title = test_convert\n",
    "doc_host = https://dmitryhits.github.io\"\"\".split('\\n')\n",
    "settings = Path('../test_convert/settings.ini')\n",
    "settings.touch()\n",
    "settings.write_text('\\n'.join(text))\n",
    "\n",
    "cwd = Path.cwd()\n",
    "print('2', cwd)\n",
    "os.chdir('../test_convert')\n",
    "print('3', Path.cwd())\n",
    "# !printf \"1\\n0\\n\" | convert_lib\n",
    "convert_lib()\n",
    "# Test that the lib was made fine\n",
    "test_eq(Path('nbs/00_test.ipynb').read_text(), '{\"cells\": [{\"cell_type\": \"code\", \"execution_count\": null, \"metadata\": {}, \"outputs\": [], \"source\": [\"#| default_exp test\"]}, {\"cell_type\": \"markdown\", \"metadata\": {}, \"source\": [\"# Default Title (change me)\\\\n\", \"> Default description (change me)\"]}, {\"cell_type\": \"code\", \"execution_count\": null, \"metadata\": {}, \"outputs\": [], \"source\": [\"#| export\\\\n\", \"\"]}, {\"cell_type\": \"code\", \"execution_count\": null, \"metadata\": {}, \"outputs\": [], \"source\": [\"#| export\\\\n\", \"def testing_code(a,b): return a+b\"]}], \"metadata\": {\"jupytext\": {\"split_at_heading\": true}, \"kernelspec\": {\"display_name\": \"Python 3\", \"language\": \"python\", \"name\": \"python3\"}}, \"nbformat\": 4, \"nbformat_minor\": 4}')\n",
    "os.chdir(cwd)\n",
    "print('4',Path.cwd())"
   ]
  },
  {
   "cell_type": "markdown",
   "metadata": {},
   "source": [
    "# Export -"
   ]
  },
  {
   "cell_type": "code",
   "execution_count": null,
   "metadata": {},
   "outputs": [],
   "source": [
    "#| hide\n",
    "import nbdev; nbdev.nbdev_export()"
   ]
  },
  {
   "cell_type": "code",
   "execution_count": null,
   "metadata": {},
   "outputs": [],
   "source": [
    "p = Path.cwd()"
   ]
  },
  {
   "cell_type": "code",
   "execution_count": null,
   "metadata": {},
   "outputs": [
    {
     "data": {
      "text/plain": [
       "(#11) [Path('/Users/hits/software/lib2nbdev/nbs/00_core.ipynb'),Path('/Users/hits/software/lib2nbdev/nbs/_quarto.yml'),Path('/Users/hits/software/lib2nbdev/nbs/00_convert.ipynb'),Path('/Users/hits/software/lib2nbdev/nbs/sidebar.yml'),Path('/Users/hits/software/lib2nbdev/nbs/styles.css'),Path('/Users/hits/software/lib2nbdev/nbs/Untitled.ipynb'),Path('/Users/hits/software/lib2nbdev/nbs/01_generators.ipynb'),Path('/Users/hits/software/lib2nbdev/nbs/nbdev.yml'),Path('/Users/hits/software/lib2nbdev/nbs/02_tutorial.ipynb'),Path('/Users/hits/software/lib2nbdev/nbs/.ipynb_checkpoints')...]"
      ]
     },
     "execution_count": null,
     "metadata": {},
     "output_type": "execute_result"
    }
   ],
   "source": [
    "p.ls()"
   ]
  },
  {
   "cell_type": "code",
   "execution_count": null,
   "metadata": {},
   "outputs": [
    {
     "data": {
      "text/plain": [
       "{'repo': 'test_convert', 'lib_name': 'test_convert', 'user': 'dmitryhits', 'description': 'A test conversion', 'keywords': 'test', 'author': 'Dmitry Hits', 'author_email': 'dmitry.hits@gmail.com', 'copyright': 'None', 'branch': 'master', 'version': '0.0.1', 'min_python': '3.7', 'audience': 'Developers', 'language': 'English', 'custom_sidebar': 'False', 'license': 'apache2', 'status': '2', 'nbs_path': 'nbs', 'doc_path': '_docs', 'recursive': 'True', 'doc_baseurl': '/test_convert/', 'git_url': 'https://github.com/muellerzr/test_convert/tree/master/', 'lib_path': 'test_convert', 'title': 'test_convert', 'doc_host': 'https://dmitryhits.github.io', 'tst_flags': 'notest', 'black_formatting': 'False', 'readme_nb': 'index.ipynb', 'allowed_metadata_keys': '', 'allowed_cell_metadata_keys': '', 'jupyter_hooks': 'True', 'clean_ids': 'True', 'clear_all': 'False', 'put_version_in_init': 'True'}"
      ]
     },
     "execution_count": null,
     "metadata": {},
     "output_type": "execute_result"
    }
   ],
   "source": [
    "get_config()"
   ]
  },
  {
   "cell_type": "code",
   "execution_count": null,
   "metadata": {},
   "outputs": [],
   "source": []
  }
 ],
 "metadata": {
  "kernelspec": {
   "display_name": "Python 3 (ipykernel)",
   "language": "python",
   "name": "python3"
  }
 },
 "nbformat": 4,
 "nbformat_minor": 4
}
