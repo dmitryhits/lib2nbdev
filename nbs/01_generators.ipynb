{
 "cells": [
  {
   "cell_type": "code",
   "execution_count": null,
   "id": "a1658b77",
   "metadata": {},
   "outputs": [],
   "source": [
    "#| default_exp generators"
   ]
  },
  {
   "cell_type": "markdown",
   "id": "d0a39713",
   "metadata": {},
   "source": [
    "# Generators\n",
    "\n",
    "> Functions which generate files"
   ]
  },
  {
   "cell_type": "code",
   "execution_count": null,
   "id": "56fa44e0",
   "metadata": {},
   "outputs": [],
   "source": [
    "#| hide\n",
    "from nbdev.showdoc import *"
   ]
  },
  {
   "cell_type": "code",
   "execution_count": null,
   "id": "f311a090",
   "metadata": {},
   "outputs": [],
   "source": [
    "#| export\n",
    "from fastcore.xtras import Path\n",
    "from nbdev.cli import *\n",
    "import requests"
   ]
  },
  {
   "cell_type": "code",
   "execution_count": null,
   "id": "61a1e21d",
   "metadata": {},
   "outputs": [],
   "source": [
    "#| export\n",
    "def generate_ci():\n",
    "    \"\"\"\n",
    "    Generates a Github action for running nbdev tests\n",
    "    \"\"\"\n",
    "    path = Path('.github/workflows')\n",
    "    if not path.exists(): path.mkdir(parents=True)\n",
    "    if (path/'nbdev.yml').exists(): \n",
    "        print(\"nbdev.yml already exists, please modify the existing version\")\n",
    "        return\n",
    "    \n",
    "    f = open(path/'nbdev.yml', 'w')\n",
    "    f.write('''\n",
    "name: nbdev CI\n",
    "on: [push, pull_request]\n",
    "jobs:\n",
    "  build:\n",
    "    runs-on: ubuntu-latest\n",
    "    steps:\n",
    "    - uses: actions/checkout@v1\n",
    "    - uses: actions/setup-python@v1\n",
    "      with:\n",
    "        python-version: '3.6'\n",
    "        architecture: 'x64'\n",
    "    - name: Install the library\n",
    "      run: |\n",
    "        pip install nbdev jupyter\n",
    "        pip install -e .\n",
    "    - name: Read all notebooks\n",
    "      run: |\n",
    "        nbdev_read_nbs\n",
    "    - name: Check if all notebooks are cleaned\n",
    "      run: |\n",
    "        echo \"Check we are starting with clean git checkout\"\n",
    "        if [ -n \"$(git status -uno -s)\" ]; then echo \"git status is not clean\"; false; fi\n",
    "        echo \"Trying to strip out notebooks\"\n",
    "        nbdev_clean_nbs\n",
    "        echo \"Check that strip out was unnecessary\"\n",
    "        git status -s # display the status to see which nbs need cleaning up\n",
    "        if [ -n \"$(git status -uno -s)\" ]; then echo -e \"!!! Detected unstripped out notebooks\\n!!!Remember to run nbdev_install_git_hooks\"; false; fi\n",
    "    - name: Check if there is no diff library/notebooks\n",
    "      run: |\n",
    "        if [ -n \"$(nbdev_diff_nbs)\" ]; then echo -e \"!!! Detected difference between the notebooks and the library\"; false; fi\n",
    "    - name: Run tests\n",
    "      run: |\n",
    "        nbdev_test_nbs''')"
   ]
  },
  {
   "cell_type": "code",
   "execution_count": null,
   "id": "7aeca6f9",
   "metadata": {},
   "outputs": [],
   "source": [
    "#| export\n",
    "def generate_doc_foundations():\n",
    "    \"\"\"\n",
    "    Grabs the needed files for documentation from [nbdev_template](https://github.com/fastai/nbdev_template)\n",
    "    \"\"\"\n",
    "    _base_url = 'https://raw.githubusercontent.com/fastai/nbdev/master/docs'\n",
    "    _urls = {\n",
    "        'Gemfile':f'{_base_url}/Gemfile',\n",
    "        'Gemfile.lock': f'{_base_url}/Gemfile.lock',\n",
    "        'feed.xml': f'{_base_url}/feed.xml',\n",
    "        'sitemap.xml': f'{_base_url}/sitemap.xml',\n",
    "        '.gitignore': f'{_base_url}/.gitignore' # Specific gitignore\n",
    "    }\n",
    "    print(\"Initializing documentation foundation...\")\n",
    "    base_path = Path('docs')\n",
    "    base_path.mkdir(exist_ok=True)\n",
    "    for fname, url in _urls.items():\n",
    "        r = requests.get(url)\n",
    "        with open(base_path/fname, 'w') as f:\n",
    "            f.write(r.text)"
   ]
  },
  {
   "cell_type": "markdown",
   "id": "bf96666d",
   "metadata": {},
   "source": [
    "This function goes and grabs the latest updated version of `Gemfile`, `Gemfile.lock`, `feed.xml`, and `sitemap.xml`. These are all needed to initially build the documentation"
   ]
  },
  {
   "cell_type": "code",
   "execution_count": null,
   "id": "12dcd4aa",
   "metadata": {},
   "outputs": [],
   "source": [
    "#| export\n",
    "def generate_setup():\n",
    "    \"\"\"\n",
    "    Grabs the original setup.py file from [nbdev_template](https://github.com/fastai/nbdev_template)\n",
    "    \"\"\"\n",
    "    r = requests.get('https://raw.githubusercontent.com/fastai/nbdev/master/setup.py')\n",
    "    with open('setup.py', 'w') as f: f.write(r.text)"
   ]
  },
  {
   "cell_type": "markdown",
   "id": "4f8ea7de",
   "metadata": {},
   "source": [
    "# Export -"
   ]
  },
  {
   "cell_type": "code",
   "execution_count": null,
   "id": "92b7ac3f",
   "metadata": {},
   "outputs": [],
   "source": [
    "#| hide\n",
    "import nbdev; nbdev.nbdev_export()"
   ]
  },
  {
   "cell_type": "code",
   "execution_count": null,
   "id": "48fcbdad",
   "metadata": {},
   "outputs": [],
   "source": []
  }
 ],
 "metadata": {
  "kernelspec": {
   "display_name": "python3",
   "language": "python",
   "name": "python3"
  }
 },
 "nbformat": 4,
 "nbformat_minor": 5
}
