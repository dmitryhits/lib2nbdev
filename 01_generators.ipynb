{
 "cells": [
  {
   "cell_type": "raw",
   "metadata": {},
   "source": [
    "---\n",
    "description: Functions which generate files\n",
    "output-file: generators.html\n",
    "title: Generators\n",
    "\n",
    "---\n",
    "\n"
   ]
  },
  {
   "cell_type": "code",
   "execution_count": null,
   "id": "a1658b77",
   "metadata": {},
   "outputs": [],
   "source": [
    "#| default_exp generators"
   ]
  },
  {
   "cell_type": "code",
   "execution_count": null,
   "id": "56fa44e0",
   "metadata": {},
   "outputs": [],
   "source": [
    "#| include: false\n",
    "from nbdev.showdoc import *"
   ]
  },
  {
   "cell_type": "code",
   "execution_count": null,
   "id": "f311a090",
   "metadata": {},
   "outputs": [],
   "source": [
    "#| export\n",
    "from fastcore.xtras import Path\n",
    "import requests"
   ]
  },
  {
   "cell_type": "code",
   "execution_count": null,
   "id": "672d3cfb",
   "metadata": {},
   "outputs": [],
   "source": [
    "#| export\n",
    "def generate_settings():\n",
    "    \"\"\"\n",
    "    Guide the user for generating a proper `settings.ini` if one does not already exist in the directory    \n",
    "    \"\"\"\n",
    "    if Path('settings.ini').exists():\n",
    "        print(\"settings.ini already exists, going off existing version\")\n",
    "        return\n",
    "    print(\"No settings.ini exists, let's make one:\")\n",
    "    f = open(\"settings.ini\", 'w')\n",
    "    user_inp = {}\n",
    "    \n",
    "    user_inp['[DEFAULT]\\nhost'] = 'github\\n'\n",
    "    user_inp['lib_name'] = input(\"Please enter the name of your library: \")\n",
    "    _enterprise = int(input(\"Is this an Enterprise Git? (0 or 1): \"))\n",
    "    \n",
    "    if _enterprise:\n",
    "        user_inp['repo_name'] = input(\"Please enter the repo name: \")\n",
    "        user_inp['company_name'] = input(\"Please enter the company name: \")\n",
    "\n",
    "    user_inp['user'] = input(\"Please enter your git username: \")\n",
    "    user_inp['description'] = input(\"Please enter a description of the project: \")\n",
    "    user_inp['keywords'] = input(\"Please enter some keywords for your project seperated by a space: \")\n",
    "    user_inp['author'] = input(\"Please enter all main authors names (seperate names with a space): \")\n",
    "    user_inp['author_email'] = input(\"Please enter a main email contact for the project: \")\n",
    "    user_inp['copyright'] = input(\"Please enter a Copyright (such as company name or your name): \")\n",
    "    user_inp['branch'] = input(\"Please enter the head branch of this project (such as master/main): \")\n",
    "    user_inp['version'] = input(\"Please enter the current version of this project: \")\n",
    "    user_inp['min_python'] = input(\"Please enter the minimum required Python for this project (such as 3.6): \")\n",
    "    user_inp['audience'] = 'Developers'; user_inp['language'] = 'English'\n",
    "    \n",
    "    for k, v in user_inp.items(): f.write(f'{k} = {v}\\n')\n",
    "      \n",
    "    nbs = input(\"Please enter where you would like your notebooks stored? (Usually `nbs` or `.`): \")\n",
    "\n",
    "    f.write('# Set to True if you want to create a more fancy sidebar.json than the default\\ncustom_sidebar = False\\n')\n",
    "    f.write('# Add licenses and see current list in `setup.py`\\nlicense = apache2\\n')\n",
    "    f.write('# From 1-7: Planning Pre-Alpha Alpha Beta Production Mature Inactive\\nstatus = 2\\n')\n",
    "    f.write('''\n",
    "# Optional. Same format as setuptools requirements\n",
    "# requirements = \n",
    "# Optional. Same format as setuptools console_scripts\n",
    "# console_scripts = \n",
    "# Optional. Same format as setuptools dependency-links\n",
    "# dep_links = ''')\n",
    "    f.write('''\n",
    "###\n",
    "# You probably won't need to change anything under here,\n",
    "#   unless you have some special requirements\n",
    "###\n",
    "\n",
    "# Change to, e.g. \"nbs\", to put your notebooks in nbs dir instead of repo root\n",
    "''')\n",
    "    f.write(f'nbs_path = {nbs}\\n')\n",
    "    f.write('doc_path = docs\\n')\n",
    "    f.write('# Whether to look for library notebooks recursively in the `nbs_path` dir\\nrecursive = False\\n')\n",
    "    f.write(\"\\n\\n\\n# Anything shown as '%(...)s' is substituted with that setting automatically\")\n",
    "\n",
    "    f.write('doc_host = https://%(user)s.github.io\\n') if not _enterprise else f.write('doc_host = https://pages.github.%(company_name)s.com\\n')\n",
    "    f.write('doc_baseurl = /%(lib_name)s/\\n') if not _enterprise else f.write('doc_baseurl  = /%(repo_name)s/%(lib_name)s/\\n')\n",
    "    if not _enterprise: f.write('git_url = https://github.com/%(user)s/%(lib_name)s/tree/%(branch)s/\\n')\n",
    "    else: f.write('git_url  = https://github.%(company_name)s.com/%(repo_name)s/%(lib_name)s/tree/%(branch)s/\\n')\n",
    "    f.write('\\n\\n\\nlib_path = %(lib_name)s\\ntitle = %(lib_name)s\\n')\n",
    "    f.write('''\n",
    "#Optional advanced parameters\n",
    "#Monospace docstings: adds <pre> tags around the doc strings, preserving newlines/indentation.\n",
    "#monospace_docstrings = False\n",
    "#Test flags: introduce here the test flags you want to use separated by |\n",
    "#tst_flags = \n",
    "#Custom sidebar: customize sidebar.json yourself for advanced sidebars (False/True)\n",
    "#custom_sidebar = \n",
    "#Cell spacing: if you want cell blocks in code separated by more than one new line\n",
    "#cell_spacing = \n",
    "#Custom jekyll styles: if you want more jekyll styles than tip/important/warning, set them here\n",
    "#jekyll_styles = note,warning,tip,important\n",
    "    ''')\n",
    "    print(\"If there are any necissary requirements for the project, please add them to the requirements section\")\n",
    "    print(\"If there should be any test flags, please add them to the tst_flags section\")\n",
    "    print(\"settings.ini successfully generated\")"
   ]
  },
  {
   "cell_type": "code",
   "execution_count": null,
   "id": "61a1e21d",
   "metadata": {},
   "outputs": [],
   "source": [
    "#| export\n",
    "def generate_ci():\n",
    "    \"\"\"\n",
    "    Generates a Github action for running nbdev tests\n",
    "    \"\"\"\n",
    "    path = Path('.github/workflows')\n",
    "    if not path.exists(): path.mkdir(parents=True)\n",
    "    if (path/'nbdev.yml').exists(): \n",
    "        print(\"nbdev.yml already exists, please modify the existing version\")\n",
    "        return\n",
    "    \n",
    "    f = open(path/'nbdev.yml', 'w')\n",
    "    f.write('''\n",
    "name: nbdev CI\n",
    "on: [push, pull_request]\n",
    "jobs:\n",
    "  build:\n",
    "    runs-on: ubuntu-latest\n",
    "    steps:\n",
    "    - uses: actions/checkout@v1\n",
    "    - uses: actions/setup-python@v1\n",
    "      with:\n",
    "        python-version: '3.6'\n",
    "        architecture: 'x64'\n",
    "    - name: Install the library\n",
    "      run: |\n",
    "        pip install nbdev jupyter\n",
    "        pip install -e .\n",
    "    - name: Read all notebooks\n",
    "      run: |\n",
    "        nbdev_read_nbs\n",
    "    - name: Check if all notebooks are cleaned\n",
    "      run: |\n",
    "        echo \"Check we are starting with clean git checkout\"\n",
    "        if [ -n \"$(git status -uno -s)\" ]; then echo \"git status is not clean\"; false; fi\n",
    "        echo \"Trying to strip out notebooks\"\n",
    "        nbdev_clean_nbs\n",
    "        echo \"Check that strip out was unnecessary\"\n",
    "        git status -s # display the status to see which nbs need cleaning up\n",
    "        if [ -n \"$(git status -uno -s)\" ]; then echo -e \"!!! Detected unstripped out notebooks\\n!!!Remember to run nbdev_install_git_hooks\"; false; fi\n",
    "    - name: Check if there is no diff library/notebooks\n",
    "      run: |\n",
    "        if [ -n \"$(nbdev_diff_nbs)\" ]; then echo -e \"!!! Detected difference between the notebooks and the library\"; false; fi\n",
    "    - name: Run tests\n",
    "      run: |\n",
    "        nbdev_test_nbs''')"
   ]
  },
  {
   "cell_type": "code",
   "execution_count": null,
   "id": "7aeca6f9",
   "metadata": {},
   "outputs": [],
   "source": [
    "#| export\n",
    "def generate_doc_foundations():\n",
    "    \"\"\"\n",
    "    Grabs the needed files for documentation from [nbdev_template](https://github.com/fastai/nbdev_template)\n",
    "    \"\"\"\n",
    "    _base_url = 'https://raw.githubusercontent.com/fastai/nbdev/master/docs'\n",
    "    _urls = {\n",
    "        'Gemfile':f'{_base_url}/Gemfile',\n",
    "        'Gemfile.lock': f'{_base_url}/Gemfile.lock',\n",
    "        'feed.xml': f'{_base_url}/feed.xml',\n",
    "        'sitemap.xml': f'{_base_url}/sitemap.xml',\n",
    "        '.gitignore': f'{_base_url}/.gitignore' # Specific gitignore\n",
    "    }\n",
    "    print(\"Initializing documentation foundation...\")\n",
    "    base_path = Path('docs')\n",
    "    base_path.mkdir(exist_ok=True)\n",
    "    for fname, url in _urls.items():\n",
    "        r = requests.get(url)\n",
    "        with open(base_path/fname, 'w') as f:\n",
    "            f.write(r.text)"
   ]
  },
  {
   "cell_type": "markdown",
   "id": "bf96666d",
   "metadata": {},
   "source": [
    "This function goes and grabs the latest updated version of `Gemfile`, `Gemfile.lock`, `feed.xml`, and `sitemap.xml`. These are all needed to initially build the documentation"
   ]
  },
  {
   "cell_type": "code",
   "execution_count": null,
   "id": "12dcd4aa",
   "metadata": {},
   "outputs": [],
   "source": [
    "#| export\n",
    "def generate_setup():\n",
    "    \"\"\"\n",
    "    Grabs the original setup.py file from [nbdev_template](https://github.com/fastai/nbdev_template)\n",
    "    \"\"\"\n",
    "    r = requests.get('https://raw.githubusercontent.com/fastai/nbdev/master/setup.py')\n",
    "    with open('setup.py', 'w') as f: f.write(r.text)"
   ]
  },
  {
   "cell_type": "markdown",
   "id": "4f8ea7de",
   "metadata": {},
   "source": [
    "# Export -"
   ]
  },
  {
   "cell_type": "code",
   "execution_count": null,
   "id": "92b7ac3f",
   "metadata": {},
   "outputs": [
    {
     "name": "stdout",
     "output_type": "stream",
     "text": [
      "Converted 00_convert.ipynb.\n",
      "Converted 01_generators.ipynb.\n",
      "Converted 02_tutorial.ipynb.\n",
      "Converted index.ipynb.\n"
     ]
    }
   ],
   "source": [
    "#| include: false\n",
    "from nbdev.export import notebook2script\n",
    "notebook2script()"
   ]
  },
  {
   "cell_type": "code",
   "execution_count": null,
   "id": "48fcbdad",
   "metadata": {},
   "outputs": [],
   "source": []
  }
 ],
 "metadata": {
  "kernelspec": {
   "display_name": "Python 3",
   "language": "python",
   "name": "python3"
  }
 },
 "nbformat": 4,
 "nbformat_minor": 5
}
