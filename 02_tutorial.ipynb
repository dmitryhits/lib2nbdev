{
 "cells": [
  {
   "cell_type": "raw",
   "metadata": {},
   "source": [
    "---\n",
    "description: Learn how to use `lib2nbdev` to convert your existing Python libraries\n",
    "  to `nbdev` ones\n",
    "output-file: tutorial.html\n",
    "title: Converting A Library (Tutorial)\n",
    "\n",
    "---\n",
    "\n"
   ]
  },
  {
   "cell_type": "code",
   "execution_count": null,
   "metadata": {},
   "outputs": [],
   "source": [
    "# all_slow"
   ]
  },
  {
   "cell_type": "markdown",
   "metadata": {},
   "source": [
    "## Installing `lib2nbdev`\n",
    "\n",
    "Before utilizing `lib2nbdev`, you should install it on your system. Currently there are both `conda` and `pip` releases available.\n",
    "\n",
    "The library also requires at least python 3.6"
   ]
  },
  {
   "cell_type": "markdown",
   "metadata": {},
   "source": [
    "### With pip\n",
    "\n",
    "To install with pip, run:\n",
    "\n",
    "```bash\n",
    "pip install lib2nbdev\n",
    "```\n",
    "(or `pip3` depending on your setup)"
   ]
  },
  {
   "cell_type": "markdown",
   "metadata": {},
   "source": [
    "### With conda\n",
    "\n",
    "To install with `conda`, run:\n",
    "```bash\n",
    "conda install lib2nbdev\n",
    "```"
   ]
  },
  {
   "cell_type": "markdown",
   "metadata": {},
   "source": [
    "## Setting Up Your Repository, Things You Should Be Thinking About\n",
    "\n",
    "When converting your library, the end result will look very similar to other nbdev-created libraries, such as [this one](https://github.com/novetta/lib2nbdev) or the [fastai library](https://github.com/fastai/fastai). This being your repository will have a place for your notebooks, a settings.ini file, and potential Github actions. \n",
    "\n",
    "Before converting your library, you should consider:\n",
    "\n",
    "- Where do I want my notebooks to be stored?\n",
    "> `lib2nbdev` will ask where you want your notebooks to be located. Generally we recommend answering with `nbs`, so they all get placed in a `nbs` folder\n",
    "- Do I want to use `nbdev`'s default Github CI?\n",
    "> `lib2nbdev` can generate a Github Actions CI for you to use specifically designed for nbdev. It will check that the notebooks were cleaned, there's no differences between the notebooks and the exported library, and that your tests all pass\n",
    "- Do I want to use [fastrelease](https://github.com/fastai/fastrelease)\n",
    "> `fastrelease` allows for quick `pip` and `conda` releases, however you need to have a `setup.py` that's similar to [nbdev's](https://github.com/fastai/nbdev_template/blob/master/setup.py). This will require manual adjustments after the library conversion process is over, as all the information needed for the `setup.py` will live in the newly generated `settings.ini` file"
   ]
  },
  {
   "cell_type": "markdown",
   "metadata": {},
   "source": [
    "## The Conversion Process\n",
    "\n",
    "Converting any library to the `nbdev` format is extremely simple. From your linux CLI, go to the home directory of your existing repository or library, and run:\n",
    "```bash\n",
    "convert_lib\n",
    "```\n",
    "\n",
    "In your terminal.\n",
    "\n",
    ":::{.callout-note}\n",
    "\n",
    "If you are using a Windows terminal and don't want to use WSL, you should enter the python interpreter and run `from lib2nbdev.convert import convert_lib; convert_lib()`\n",
    "\n",
    ":::"
   ]
  },
  {
   "cell_type": "markdown",
   "metadata": {},
   "source": [
    "You will then see a series of questions pop up, similar to below. Answer them, as they will guide you through setting up your `settings.ini`:"
   ]
  },
  {
   "cell_type": "markdown",
   "metadata": {},
   "source": [
    "![image.png](docs/01_tutorial_files/att_00000.png)"
   ]
  },
  {
   "cell_type": "markdown",
   "metadata": {},
   "source": [
    "Note: The name of your library should point to the source folder of your project."
   ]
  },
  {
   "cell_type": "markdown",
   "metadata": {},
   "source": [
    "Afterwards `lib2nbdev` will convert your `.py` files into notebooks and store them away in wherever you specified:"
   ]
  },
  {
   "cell_type": "markdown",
   "metadata": {},
   "source": [
    "![image.png](docs/01_tutorial_files/att_00001.png)"
   ]
  },
  {
   "cell_type": "markdown",
   "metadata": {},
   "source": [
    "Finally you will be prompted as to whether you want to use the `nbdev` Github workflow template. \n",
    "> Notice: If you choose yes (1), you should make sure to explicitly add the workflow located in `.github/workflows/main.yml` to git on your next commit\n",
    "\n",
    "![image.png](docs/01_tutorial_files/att_00002.png)"
   ]
  },
  {
   "cell_type": "markdown",
   "metadata": {},
   "source": [
    "And you are done! Your entire library has been converted into Jupyter Notebooks, and you are now setup to work with the `nbdev` workflow. When modifying the library you should be working directly out of those Jupyter Notebooks, and be making new ones as you progress. \n",
    "\n"
   ]
  },
  {
   "cell_type": "markdown",
   "metadata": {},
   "source": [
    "## Closing Remarks\n",
    "\n",
    "It should be noted that these are blank notebook templates, so you should modify the opening headers and descriptions that are autogenerated in each notebook with a relevant title.\n",
    "\n",
    "Also, if you want to use `nbdev` generated documentation, you should think about how to bring in your existing documentation and tutorials into these notebooks. You can also just link directly to your existing Markdown files by adjusting the `sidebar.json` located in the `docs` folder. (You need to run `nbdev_build_docs` at least once for this to show up)."
   ]
  },
  {
   "cell_type": "code",
   "execution_count": null,
   "metadata": {},
   "outputs": [],
   "source": []
  }
 ],
 "metadata": {
  "kernelspec": {
   "display_name": "Python 3",
   "language": "python",
   "name": "python3"
  }
 },
 "nbformat": 4,
 "nbformat_minor": 4
}
